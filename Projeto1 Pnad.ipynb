{
 "cells": [
  {
   "cell_type": "markdown",
   "metadata": {},
   "source": [
    "___\n",
    "# Ciência dos Dados - PROJETO 1"
   ]
  },
  {
   "cell_type": "markdown",
   "metadata": {},
   "source": [
    "## Rafael Alves de Mello Almada\n",
    "___"
   ]
  },
  {
   "cell_type": "markdown",
   "metadata": {},
   "source": [
    "## Machismo e tecnologia"
   ]
  },
  {
   "cell_type": "markdown",
   "metadata": {},
   "source": [
    "___\n",
    "## O machismo presente nas diversas regiões do Brasil atrasam o desenvolvimento tecnológico do país?\n",
    "\n",
    "Com esta pesquisa, pretendo analisar o machismo presente nas diversas regiões do Brasil e ver se ele é um impacto ao desenvolvimento tecnológico do país e ao acesso à tecnologia do brasileiro. "
   ]
  },
  {
   "cell_type": "markdown",
   "metadata": {},
   "source": [
    "___\n",
    "## Filtros da base de dados"
   ]
  },
  {
   "cell_type": "code",
   "execution_count": 44,
   "metadata": {
    "collapsed": true
   },
   "outputs": [],
   "source": [
    "%matplotlib inline\n",
    "import pandas as pd\n",
    "import matplotlib.pyplot as plt\n",
    "import numpy as np\n",
    "import os"
   ]
  },
  {
   "cell_type": "code",
   "execution_count": 45,
   "metadata": {
    "collapsed": false
   },
   "outputs": [
    {
     "name": "stdout",
     "output_type": "stream",
     "text": [
      "Esperamos trabalhar no diretório\n",
      "C:\\Users\\rafaa\\Documents\\GitHub\\Dados_DP_2018\n"
     ]
    }
   ],
   "source": [
    "print('Esperamos trabalhar no diretório')\n",
    "print(os.getcwd())"
   ]
  },
  {
   "cell_type": "code",
   "execution_count": 46,
   "metadata": {
    "collapsed": false
   },
   "outputs": [],
   "source": [
    "#Se usar o arquivo descompactado\n",
    "#pd.read_csv('PES2015.csv',sep=',')\n",
    "\n",
    "#Se usar o arquivo compactado como está no dropbox púbico\n",
    "df=pd.read_csv('PES2015csv (2).zip', compression='zip', header=0, sep=',', quotechar='\"')\n",
    "#df2011=pd.read_excel('PES2011csv.zip', compression='zip',header=0,sep=',',quotechar='\"')"
   ]
  },
  {
   "cell_type": "code",
   "execution_count": 47,
   "metadata": {
    "collapsed": false
   },
   "outputs": [],
   "source": [
    "df.loc[(df.UF>10)&(df.UF<19),'Região']='Norte'\n",
    "df.loc[(df.UF>20)&(df.UF<29),'Região']='Nordeste'\n",
    "df.loc[(df.UF>30)&(df.UF<39),'Região']='Sudeste'\n",
    "df.loc[(df.UF>40)&(df.UF<49),'Região']='Sul'\n",
    "df.loc[(df.UF>50)&(df.UF<59),'Região']='Centro-Oeste'"
   ]
  },
  {
   "cell_type": "code",
   "execution_count": 48,
   "metadata": {
    "collapsed": false
   },
   "outputs": [],
   "source": [
    "df.V0302=df.V0302.astype('category') #sexo\n",
    "df.V8005=df.V8005.astype('float') #Idade do morador no ano de referência\n",
    "df.V0601=df.V0601.astype('category') #sabe ler e escrever\n",
    "df.V0602=df.V0602.astype('category') #frequenta escola\n",
    "df.V6003=df.V6003.astype('category') #Curso que frequenta\n",
    "df.V0606=df.V0606.astype('category') #frequentou antes escola\n",
    "df['Região']=df['Região'].astype('category') #Unidade da Federação\n",
    "df.V4011=df.V4011.astype('category') #Estado Civil\n",
    "df.V9029=df.V9029.astype('category') #Posição na ocupação no trabalho principal\n",
    "df.V9532=df.V9532.astype('float') #rendimento mensal (salario)"
   ]
  },
  {
   "cell_type": "code",
   "execution_count": 49,
   "metadata": {
    "collapsed": false
   },
   "outputs": [],
   "source": [
    "df.V0302.cat.categories=(['Masculino','Feminino'])\n",
    "df.V0601.cat.categories=(['Sim','Não'])\n",
    "df.V0602.cat.categories=(['Sim','Não'])\n",
    "df.V6003.cat.categories=(['Regular do ensino fundamental','Regular do ensino médio','Educação de jovens e adultos ou supletivo do ensino fundamental','Educação de jovens e adultos ou supletivo do ensino médio','Superior de graduação','Alfabetização de jovens e adultos','Creche','Classe de alfabetização - CA','Maternal, jardim de infância etc.','Pré-vestibular','Mestrado ou doutorado'])\n",
    "df.V0606.cat.categories=['Sim','Não']\n",
    "df['Região'].cat.categories=(['Norte','Nordeste','Sudeste','Sul','Centro-Oeste'])\n",
    "df.V9029.cat.categories=(['Empregado','Trabalhador doméstico','Conta própria','Empregador','Trabalhador não remunerado membro da unidade domiciliar','Outro trabalhador não remunerado','Trabalhador na construção para o próprio uso'])"
   ]
  },
  {
   "cell_type": "code",
   "execution_count": 50,
   "metadata": {
    "collapsed": false
   },
   "outputs": [],
   "source": [
    "df.loc[(df.V0602=='Sim'),'Já estudou/estuda']='Sim'\n",
    "df.loc[(df.V0602=='Não')&(df.V0606=='Sim'),'Já estudou/estuda']='Sim'\n",
    "df.loc[(df.V0602=='Não')&(df.V0606=='Não'),'Já estudou/estuda']='Não'"
   ]
  },
  {
   "cell_type": "code",
   "execution_count": 51,
   "metadata": {
    "collapsed": false
   },
   "outputs": [
    {
     "name": "stdout",
     "output_type": "stream",
     "text": [
      "Porcentagem da população feminina em relação ao total: 51.46509985878556%\n"
     ]
    }
   ],
   "source": [
    "print('Porcentagem da população feminina em relação ao total: {0}%'.format(100*df.V0302.value_counts()[1]/df.V0302.count()))"
   ]
  },
  {
   "cell_type": "code",
   "execution_count": 52,
   "metadata": {
    "collapsed": false,
    "scrolled": true
   },
   "outputs": [
    {
     "data": {
      "text/html": [
       "<div>\n",
       "<table border=\"1\" class=\"dataframe\">\n",
       "  <thead>\n",
       "    <tr style=\"text-align: right;\">\n",
       "      <th></th>\n",
       "      <th>Região</th>\n",
       "      <th>Sexo</th>\n",
       "      <th>Idade do morador na data de referência</th>\n",
       "      <th>Sabe ler e escrever</th>\n",
       "      <th>Já estudou ou estuda</th>\n",
       "      <th>Curso que frequenta</th>\n",
       "      <th>Posição na ocupação no trabalho principal</th>\n",
       "      <th>Salário</th>\n",
       "    </tr>\n",
       "  </thead>\n",
       "  <tbody>\n",
       "    <tr>\n",
       "      <th>0</th>\n",
       "      <td>Sudeste</td>\n",
       "      <td>Masculino</td>\n",
       "      <td>23.0</td>\n",
       "      <td>Sim</td>\n",
       "      <td>Sim</td>\n",
       "      <td>NaN</td>\n",
       "      <td>Empregado</td>\n",
       "      <td>800.0</td>\n",
       "    </tr>\n",
       "    <tr>\n",
       "      <th>1</th>\n",
       "      <td>Sudeste</td>\n",
       "      <td>Feminino</td>\n",
       "      <td>23.0</td>\n",
       "      <td>Sim</td>\n",
       "      <td>Sim</td>\n",
       "      <td>NaN</td>\n",
       "      <td>Empregado</td>\n",
       "      <td>1150.0</td>\n",
       "    </tr>\n",
       "    <tr>\n",
       "      <th>2</th>\n",
       "      <td>Sudeste</td>\n",
       "      <td>Feminino</td>\n",
       "      <td>35.0</td>\n",
       "      <td>Sim</td>\n",
       "      <td>Sim</td>\n",
       "      <td>Superior de graduação</td>\n",
       "      <td>Empregado</td>\n",
       "      <td>880.0</td>\n",
       "    </tr>\n",
       "    <tr>\n",
       "      <th>3</th>\n",
       "      <td>Sudeste</td>\n",
       "      <td>Masculino</td>\n",
       "      <td>34.0</td>\n",
       "      <td>Sim</td>\n",
       "      <td>Sim</td>\n",
       "      <td>NaN</td>\n",
       "      <td>Empregador</td>\n",
       "      <td>3000.0</td>\n",
       "    </tr>\n",
       "    <tr>\n",
       "      <th>4</th>\n",
       "      <td>Sudeste</td>\n",
       "      <td>Feminino</td>\n",
       "      <td>11.0</td>\n",
       "      <td>Sim</td>\n",
       "      <td>Sim</td>\n",
       "      <td>Regular do ensino fundamental</td>\n",
       "      <td>NaN</td>\n",
       "      <td>NaN</td>\n",
       "    </tr>\n",
       "  </tbody>\n",
       "</table>\n",
       "</div>"
      ],
      "text/plain": [
       "    Região       Sexo  Idade do morador na data de referência  \\\n",
       "0  Sudeste  Masculino                                    23.0   \n",
       "1  Sudeste   Feminino                                    23.0   \n",
       "2  Sudeste   Feminino                                    35.0   \n",
       "3  Sudeste  Masculino                                    34.0   \n",
       "4  Sudeste   Feminino                                    11.0   \n",
       "\n",
       "  Sabe ler e escrever Já estudou ou estuda            Curso que frequenta  \\\n",
       "0                 Sim                  Sim                            NaN   \n",
       "1                 Sim                  Sim                            NaN   \n",
       "2                 Sim                  Sim          Superior de graduação   \n",
       "3                 Sim                  Sim                            NaN   \n",
       "4                 Sim                  Sim  Regular do ensino fundamental   \n",
       "\n",
       "  Posição na ocupação no trabalho principal  Salário  \n",
       "0                                 Empregado    800.0  \n",
       "1                                 Empregado   1150.0  \n",
       "2                                 Empregado    880.0  \n",
       "3                                Empregador   3000.0  \n",
       "4                                       NaN      NaN  "
      ]
     },
     "execution_count": 52,
     "metadata": {},
     "output_type": "execute_result"
    }
   ],
   "source": [
    "df2015=pd.DataFrame()\n",
    "df2015['Região']=df['Região']\n",
    "df2015['Sexo']=df.V0302\n",
    "df2015['Idade do morador na data de referência']=df.V8005\n",
    "df2015['Sabe ler e escrever']=df.V0601\n",
    "df2015['Já estudou ou estuda']=df['Já estudou/estuda']\n",
    "df2015['Curso que frequenta']=df.V6003\n",
    "df2015['Posição na ocupação no trabalho principal']=df.V9029\n",
    "df2015['Salário']=df.V9532\n",
    "df2015.dropna(how=\"any\")\n",
    "\n",
    "df2015.head()"
   ]
  },
  {
   "cell_type": "code",
   "execution_count": 53,
   "metadata": {
    "collapsed": false
   },
   "outputs": [
    {
     "data": {
      "text/html": [
       "<div>\n",
       "<table border=\"1\" class=\"dataframe\">\n",
       "  <thead>\n",
       "    <tr style=\"text-align: right;\">\n",
       "      <th>Posição na ocupação no trabalho principal</th>\n",
       "      <th>Empregado</th>\n",
       "      <th>Trabalhador doméstico</th>\n",
       "      <th>Conta própria</th>\n",
       "      <th>Empregador</th>\n",
       "      <th>Trabalhador não remunerado membro da unidade domiciliar</th>\n",
       "      <th>Outro trabalhador não remunerado</th>\n",
       "      <th>Trabalhador na construção para o próprio uso</th>\n",
       "    </tr>\n",
       "    <tr>\n",
       "      <th>Sexo</th>\n",
       "      <th></th>\n",
       "      <th></th>\n",
       "      <th></th>\n",
       "      <th></th>\n",
       "      <th></th>\n",
       "      <th></th>\n",
       "      <th></th>\n",
       "    </tr>\n",
       "  </thead>\n",
       "  <tbody>\n",
       "    <tr>\n",
       "      <th>Masculino</th>\n",
       "      <td>53553</td>\n",
       "      <td>928</td>\n",
       "      <td>19874</td>\n",
       "      <td>3832</td>\n",
       "      <td>456</td>\n",
       "      <td>142</td>\n",
       "      <td>162</td>\n",
       "    </tr>\n",
       "    <tr>\n",
       "      <th>Feminino</th>\n",
       "      <td>39605</td>\n",
       "      <td>10137</td>\n",
       "      <td>11383</td>\n",
       "      <td>1630</td>\n",
       "      <td>921</td>\n",
       "      <td>249</td>\n",
       "      <td>29</td>\n",
       "    </tr>\n",
       "  </tbody>\n",
       "</table>\n",
       "</div>"
      ],
      "text/plain": [
       "Posição na ocupação no trabalho principal  Empregado  Trabalhador doméstico  \\\n",
       "Sexo                                                                          \n",
       "Masculino                                      53553                    928   \n",
       "Feminino                                       39605                  10137   \n",
       "\n",
       "Posição na ocupação no trabalho principal  Conta própria  Empregador  \\\n",
       "Sexo                                                                   \n",
       "Masculino                                          19874        3832   \n",
       "Feminino                                           11383        1630   \n",
       "\n",
       "Posição na ocupação no trabalho principal  Trabalhador não remunerado membro da unidade domiciliar  \\\n",
       "Sexo                                                                                                 \n",
       "Masculino                                                                                456         \n",
       "Feminino                                                                                 921         \n",
       "\n",
       "Posição na ocupação no trabalho principal  Outro trabalhador não remunerado  \\\n",
       "Sexo                                                                          \n",
       "Masculino                                                               142   \n",
       "Feminino                                                                249   \n",
       "\n",
       "Posição na ocupação no trabalho principal  Trabalhador na construção para o próprio uso  \n",
       "Sexo                                                                                     \n",
       "Masculino                                                                           162  \n",
       "Feminino                                                                             29  "
      ]
     },
     "execution_count": 53,
     "metadata": {},
     "output_type": "execute_result"
    }
   ],
   "source": [
    "ct1=pd.crosstab(df2015.Sexo,df2015['Posição na ocupação no trabalho principal'])\n",
    "ct1"
   ]
  },
  {
   "cell_type": "code",
   "execution_count": 54,
   "metadata": {
    "collapsed": false
   },
   "outputs": [
    {
     "data": {
      "image/png": "[encoded data removed]",
      "text/plain": [
       "<matplotlib.figure.Figure at 0x28f8343ef28>"
      ]
     },
     "metadata": {},
     "output_type": "display_data"
    },
    {
     "data": {
      "image/png": "[encoded data removed]",
      "text/plain": [
       "<matplotlib.figure.Figure at 0x28f8343ec88>"
      ]
     },
     "metadata": {},
     "output_type": "display_data"
    }
   ],
   "source": [
    "sem_homi = df2015[df2015.Sexo=='Feminino']\n",
    "so_homi=df2015[df2015.Sexo=='Masculino']\n",
    "\n",
    "ct1= (pd.crosstab(sem_homi['Região'], sem_homi['Já estudou ou estuda'], margins=True, rownames=['Região'], colnames=['Estudou'], normalize=\"index\")*100).round(decimals=1)\n",
    "ct2=(pd.crosstab(so_homi['Região'], so_homi['Já estudou ou estuda'], margins=True, rownames=['Região'], colnames=['Estudou'], normalize='index')*100).round(decimals=1)\n",
    "ct5 = ct1.iloc[0:5,0:2]\n",
    "ct6=ct2.iloc[0:5,0:2]\n",
    "plot = ct5.plot(kind='bar', stacked=True, figsize=(12,3), title='Mulheres: Estudou x Região')\n",
    "plot = ct6.plot(kind='bar', stacked=True, figsize=(12,3), title='Homens: Estudou x Região')\n",
    "plt.ylabel('Freq.Relativa (em %)')\n",
    "\n",
    "plt.show()\n"
   ]
  },
  {
   "cell_type": "code",
   "execution_count": 55,
   "metadata": {
    "collapsed": false
   },
   "outputs": [],
   "source": [
    "out=sem_homi[abs(sem_homi['Salário']-sem_homi['Salário'].mean())<=(3*sem_homi['Salário'].std())]\n",
    "bra = out['Salário']\n",
    "\n",
    "putz=df2015[abs(df2015['Salário']-df2015['Salário'].mean())<=(3*df2015['Salário'].std())]\n",
    "iago=putz['Salário']"
   ]
  },
  {
   "cell_type": "code",
   "execution_count": 56,
   "metadata": {
    "collapsed": false
   },
   "outputs": [
    {
     "data": {
      "image/png": "[encoded data removed]",
      "text/plain": [
       "<matplotlib.figure.Figure at 0x28f833e7b00>"
      ]
     },
     "metadata": {},
     "output_type": "display_data"
    }
   ],
   "source": [
    "bra=bra[bra<12500]\n",
    "iago=iago[iago<12500]\n",
    "plt.title('Salário de Mulheres x Salário de Homens')\n",
    "iago.hist(bins=30,normed=True,color='blue',label='Homens')\n",
    "plt.hist(bra, bins=25,normed='index',color='lightblue',alpha=0.5, label='Mulheres')\n",
    "#plt.legend('Homens','Mulheres')\n",
    "#plt.legend(bbox_to_anchor=(1.05, 1), loc=2, borderaxespad=0.)\n",
    "plt.show()"
   ]
  },
  {
   "cell_type": "markdown",
   "metadata": {},
   "source": [
    "___\n",
    "## Análise e Resultados"
   ]
  },
  {
   "cell_type": "markdown",
   "metadata": {
    "collapsed": false
   },
   "source": [
    "A análise do gráfico de mulheres que estudaram por"
   ]
  },
  {
   "cell_type": "code",
   "execution_count": null,
   "metadata": {
    "collapsed": true
   },
   "outputs": [],
   "source": []
  },
  {
   "cell_type": "markdown",
   "metadata": {},
   "source": [
    "## Conclusão "
   ]
  },
  {
   "cell_type": "markdown",
   "metadata": {
    "collapsed": true
   },
   "source": [
    "Descreva aqui suas conclusões!"
   ]
  },
  {
   "cell_type": "code",
   "execution_count": null,
   "metadata": {
    "collapsed": true
   },
   "outputs": [],
   "source": []
  }
 ],
 "metadata": {
  "anaconda-cloud": {},
  "kernelspec": {
   "display_name": "Python 3",
   "language": "python",
   "name": "python3"
  },
  "language_info": {
   "codemirror_mode": {
    "name": "ipython",
    "version": 3
   },
   "file_extension": ".py",
   "mimetype": "text/x-python",
   "name": "python",
   "nbconvert_exporter": "python",
   "pygments_lexer": "ipython3",
   "version": "3.6.0"
  }
 },
 "nbformat": 4,
 "nbformat_minor": 1
}
